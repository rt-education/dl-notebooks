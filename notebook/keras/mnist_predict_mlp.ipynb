{
 "cells": [
  {
   "cell_type": "markdown",
   "id": "69812fb0-5e8b-447d-a3a3-dedff219e32b",
   "metadata": {},
   "source": [
    "# MNIST Predict Neural Network\n",
    "\n",
    "## Multi-layer Perseptron\n",
    "\n",
    "MNISTサンプルのMLP（多層パーセプトロン）バージョンです。\n",
    "\n",
    "Copyright 2022 RT Corporation  \n",
    "SPDX-License-Identifier: [Apache-2.0](http://www.apache.org/licenses/LICENSE-2.0)"
   ]
  },
  {
   "cell_type": "code",
   "execution_count": null,
   "id": "658ef78a-ed16-4338-abee-381a988027c7",
   "metadata": {},
   "outputs": [],
   "source": [
    "# ライブラリ読み込み\n",
    "#\n",
    "import sys\n",
    "import numpy as np\n",
    "import tensorflow as tf\n",
    "import tensorflow.keras as keras\n",
    "from tensorflow.keras.models import load_model\n",
    "from tensorflow.keras.preprocessing.image import load_img, img_to_array\n",
    "\n",
    "from PIL import Image,ImageOps\n",
    "import matplotlib.pyplot as plt\n",
    "from matplotlib import cm\n",
    "\n",
    "np.set_printoptions(precision=3, suppress=True)"
   ]
  },
  {
   "cell_type": "code",
   "execution_count": null,
   "id": "92f6b952-c8ea-4488-92be-e3ff8a216f2e",
   "metadata": {},
   "outputs": [],
   "source": [
    "#\n",
    "# Model fileの指定\n",
    "model_file = \"models/mnist_mlp.h5\"\n",
    "\n",
    "#\n",
    "# Data file\n",
    "data_file = \"data/test.png\"\n",
    "\n",
    "img_width, img_height, channel = 28, 28, 1\n",
    "\n",
    "print(\"model_file: {}\".format(model_file))\n",
    "print(\"data_file: {}\".format(data_file))"
   ]
  },
  {
   "cell_type": "code",
   "execution_count": null,
   "id": "c0cd6929-3f77-4633-b57f-af52acd00b19",
   "metadata": {},
   "outputs": [],
   "source": [
    "#\n",
    "# 学習モデルを読み込む\n",
    "test_model = load_model(model_file)"
   ]
  },
  {
   "cell_type": "code",
   "execution_count": null,
   "id": "0a93ea69-98d9-4b44-963f-552236dab4ad",
   "metadata": {},
   "outputs": [],
   "source": [
    "#\n",
    "# テスト用画像の読み込み\n",
    "img = load_img(data_file, color_mode=\"grayscale\", target_size=(img_width, img_height))\n",
    "\n",
    "#\n",
    "# データを整形\n",
    "input_shape = img_width * img_height\n",
    "img = ImageOps.invert(img)\n",
    "x = img.convert('L')\n",
    "x = img_to_array(x)\n",
    "x = np.expand_dims(x, axis=0)\n",
    "x = x.reshape(x.shape[0], input_shape)\n",
    "x = x.astype('float32')\n",
    "x /= 255"
   ]
  },
  {
   "cell_type": "code",
   "execution_count": null,
   "id": "f7cab3dd-adef-463f-a0d0-ac30f12bf258",
   "metadata": {},
   "outputs": [],
   "source": [
    "#\n",
    "# Predict\n",
    "# 学習済みのモデルを使って、入力画像に対して認識をかける\n",
    "ret = test_model.predict(x)\n",
    "\n",
    "#\n",
    "# Display Image、入力画像を表示\n",
    "plt.imshow(x.reshape(28,28), cmap=cm.gray_r)\n",
    "plt.show()\n",
    "\n",
    "#\n",
    "# Display result、認識結果を表示\n",
    "print(ret[0])\n",
    "val = 0\n",
    "ans = 0\n",
    "for i in range(len(ret[0])):\n",
    "    if val < ret[0][i]:\n",
    "        val = ret[0][i]\n",
    "        ans = i\n",
    "print(\"Answer is\", ans, val)"
   ]
  }
 ],
 "metadata": {
  "kernelspec": {
   "display_name": "Python 3",
   "language": "python",
   "name": "python3"
  },
  "language_info": {
   "codemirror_mode": {
    "name": "ipython",
    "version": 3
   },
   "file_extension": ".py",
   "mimetype": "text/x-python",
   "name": "python",
   "nbconvert_exporter": "python",
   "pygments_lexer": "ipython3",
   "version": "3.8.10"
  }
 },
 "nbformat": 4,
 "nbformat_minor": 5
}
