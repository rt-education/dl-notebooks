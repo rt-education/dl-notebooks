{
 "cells": [
  {
   "cell_type": "markdown",
   "id": "580ba8be",
   "metadata": {
    "tags": []
   },
   "source": [
    "# MNIST Train and Evaluate sample\n",
    "## Multi-layer Perseptron\n",
    "\n",
    "MNISTサンプルのMLP（多層パーセプトロン）バージョンです。\n",
    "\n",
    "Adapted from https://github.com/keras-team/keras/blob/c45f48eaeab2a9c9a809488950f07d83abe18411/examples/mnist_mlp.py  \n",
    "which is released under the MIT License, \"Copyright (c) 2015, François Chollet.\"\n",
    "\n",
    "Copyright 2022 RT Corporation  \n",
    "SPDX-License-Identifier: [Apache-2.0](http://www.apache.org/licenses/LICENSE-2.0)"
   ]
  },
  {
   "cell_type": "code",
   "execution_count": null,
   "id": "3c915d1b-ab33-4dfa-97b8-064c22e52d45",
   "metadata": {},
   "outputs": [],
   "source": [
    "# ライブラリ読み込み\n",
    "import os\n",
    "\n",
    "import tensorflow as tf\n",
    "import tensorflow.keras as keras\n",
    "from tensorflow.keras.datasets import mnist\n",
    "from tensorflow.keras.models import Sequential\n",
    "from tensorflow.keras.models import load_model\n",
    "from tensorflow.keras.layers import Dense,Dropout\n",
    "from tensorflow.keras.optimizers import RMSprop\n",
    "\n",
    "import matplotlib.pyplot as plt"
   ]
  },
  {
   "cell_type": "code",
   "execution_count": null,
   "id": "5b782f28-20b9-4efe-86aa-72ab28114ad7",
   "metadata": {},
   "outputs": [],
   "source": [
    "#\n",
    "# 各種パラメータ\n",
    "\n",
    "# Model fileの指定\n",
    "model_file = \"models/mnist_mlp.h5\"\n",
    "\n",
    "# 入力\n",
    "img_width, img_height, img_depth = 28, 28, 1\n",
    "\n",
    "# 出力\n",
    "num_classes = 10\n",
    "\n",
    "# 学習時のパラメータ\n",
    "batch_size = 128\n",
    "epochs = 20"
   ]
  },
  {
   "cell_type": "code",
   "execution_count": null,
   "id": "4fead163-f39c-4b93-b23d-896b53e92edc",
   "metadata": {},
   "outputs": [],
   "source": [
    "#\n",
    "# MNISTのデータを読み込む\n",
    "# ない場合は自動でダウンロードする\n",
    "(x_train, y_train), (x_test, y_test) = mnist.load_data()\n",
    "\n",
    "#\n",
    "# データを整形\n",
    "# 画像を1次元配列化\n",
    "input_shape = img_width * img_height\n",
    "x_train = x_train.reshape(x_train.shape[0], input_shape)\n",
    "x_train = x_train.astype('float32')\n",
    "x_train /= 255\n",
    "x_test = x_test.reshape(x_test.shape[0], input_shape)\n",
    "x_test = x_test.astype('float32')\n",
    "x_test /= 255\n",
    "\n",
    "print('x_train.shape: {}'.format(x_train.shape))\n",
    "print('{} train samples'.format(x_train.shape[0]))\n",
    "print('{} test samples'.format(x_test.shape[0]))\n",
    "\n",
    "y_train = keras.utils.to_categorical(y_train, num_classes)\n",
    "y_test = keras.utils.to_categorical(y_test, num_classes)\n"
   ]
  },
  {
   "cell_type": "code",
   "execution_count": null,
   "id": "9e26e6aa-26c2-4e8a-b965-1317ed9b44a5",
   "metadata": {},
   "outputs": [],
   "source": [
    "#\n",
    "# MLPモデルの取得\n",
    "# 構築済みのモデルがある場合はそれを使う\n",
    "# 指定したファイルやディレクトリがあるかを確認する\n",
    "if os.path.exists(model_file):\n",
    "    # あった場合はモデルを取り込む\n",
    "    model = load_model(model_file)\n",
    "    # そのモデルの構造を表示する\n",
    "    model.summary()\n",
    "else:\n",
    "    # ない場合は、モデルを構築する\n",
    "    model = Sequential()\n",
    "    model.add(Dense(512, activation='relu', input_shape=(input_shape,)))\n",
    "    model.add(Dropout(0.2))\n",
    "    model.add(Dense(512, activation='relu'))\n",
    "    model.add(Dropout(0.2))\n",
    "    model.add(Dense(num_classes, activation='softmax'))\n",
    "\n",
    "    model.compile(loss=keras.losses.categorical_crossentropy,\n",
    "                optimizer=RMSprop(),\n",
    "                metrics=['accuracy'])\n",
    "\n",
    "    # モデルの構造を表示する\n",
    "    model.summary()"
   ]
  },
  {
   "cell_type": "code",
   "execution_count": null,
   "id": "1fc4b2d2-c568-478f-8b88-dc50671e5b93",
   "metadata": {},
   "outputs": [],
   "source": [
    "#\n",
    "# 実際に学習を行う\n",
    "history = model.fit(x_train, y_train,\n",
    "    batch_size=batch_size,\n",
    "    epochs=epochs,\n",
    "    verbose=1,\n",
    "    validation_data=(x_test, y_test))"
   ]
  },
  {
   "cell_type": "code",
   "execution_count": null,
   "id": "d8f44260-2100-465b-876f-2c71cba85ff2",
   "metadata": {},
   "outputs": [],
   "source": [
    "#\n",
    "# トレーニングの経過を表示\n",
    "\n",
    "plt.figure(figsize=(12, 4))\n",
    "\n",
    "# accuracy 正解率\n",
    "plt.subplot(1, 2, 1)\n",
    "plt.title('accuracy')\n",
    "plt.plot(range(1,epochs+1), history.history['accuracy'], label='training')\n",
    "plt.plot(range(1,epochs+1), history.history['val_accuracy'], label='validation')\n",
    "plt.xlabel('Epochs')\n",
    "plt.ylabel('Accuracy')\n",
    "plt.legend()\n",
    "\n",
    "# loss 損失関数\n",
    "plt.subplot(1, 2, 2)\n",
    "plt.title('loss')\n",
    "plt.plot(range(1,epochs+1), history.history['loss'], label='training')\n",
    "plt.plot(range(1,epochs+1), history.history['val_loss'], label='validation')\n",
    "plt.xlabel('Epochs')\n",
    "plt.ylabel('Loss')\n",
    "plt.legend()\n",
    "\n",
    "plt.show()\n",
    "print('batch size: {}, epochs: {}'.format(batch_size, epochs))"
   ]
  },
  {
   "cell_type": "code",
   "execution_count": null,
   "id": "342cf051-d110-4178-bdcf-060086076e2b",
   "metadata": {},
   "outputs": [],
   "source": [
    "#\n",
    "# 学習結果を評価する\n",
    "score = model.evaluate(x_test, y_test, verbose=0)\n",
    "\n",
    "print('batch size: {}, epochs: {}'.format(batch_size, epochs))\n",
    "print('Test loss:', score[0])\n",
    "print('Test accuacy:', score[1])\n"
   ]
  },
  {
   "cell_type": "code",
   "execution_count": null,
   "id": "3d5363bc-aeef-436a-874f-3dca1a844fff",
   "metadata": {},
   "outputs": [],
   "source": [
    "#\n",
    "# モデルの保存\n",
    "model.save(model_file)"
   ]
  }
 ],
 "metadata": {
  "kernelspec": {
   "display_name": "Python 3",
   "language": "python",
   "name": "python3"
  },
  "language_info": {
   "codemirror_mode": {
    "name": "ipython",
    "version": 3
   },
   "file_extension": ".py",
   "mimetype": "text/x-python",
   "name": "python",
   "nbconvert_exporter": "python",
   "pygments_lexer": "ipython3",
   "version": "3.8.10"
  }
 },
 "nbformat": 4,
 "nbformat_minor": 5
}
