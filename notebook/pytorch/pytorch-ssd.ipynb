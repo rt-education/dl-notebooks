{
 "cells": [
  {
   "cell_type": "markdown",
   "id": "31441b12-0ff0-420e-974c-4ed5664b9c32",
   "metadata": {},
   "source": [
    "PyTorch Hubを利用します\n",
    "* https://pytorch.org/docs/stable/hub.html\n",
    "* https://pytorch.org/hub/\n",
    "\n",
    "今回使うのはNVIDIAが公開しているSSDのモデルです\n",
    "* https://pytorch.org/hub/nvidia_deeplearningexamples_ssd/\n",
    "\n",
    "サンプルコードはBSD-3-Clauseライセンスで公開されている以下のサンプルを参照しています。  \n",
    "https://nvidia.github.io/Torch-TensorRT/_notebooks/ssd-object-detection-demo.html  \n",
    "`Copyright (c) 2020-present, NVIDIA CORPORATION. All rights reserved.`  \n",
    "https://github.com/NVIDIA/Torch-TensorRT/blob/master/LICENSE"
   ]
  },
  {
   "cell_type": "code",
   "execution_count": null,
   "id": "fed903e1-2f4f-4d74-af95-6e2d22f729c7",
   "metadata": {},
   "outputs": [],
   "source": [
    "import torch\n",
    "print(torch.__version__)"
   ]
  },
  {
   "cell_type": "code",
   "execution_count": null,
   "id": "2ec0fcf3-9b0e-441a-a486-07893ff628a6",
   "metadata": {},
   "outputs": [],
   "source": [
    "# COCOデータセットでトレーニングしたSSDモデルをダウンロードする\n",
    "# UserWarning: pytorch_quantization module not found, quantization will not be available とワーニングが出る場合があるがひとまず無視して問題ない\n",
    "ssd_model = torch.hub.load('NVIDIA/DeepLearningExamples:torchhub', 'nvidia_ssd')\n",
    "utils = torch.hub.load('NVIDIA/DeepLearningExamples:torchhub', 'nvidia_ssd_processing_utils')"
   ]
  },
  {
   "cell_type": "code",
   "execution_count": null,
   "id": "decb4649-fe0e-49ce-89a6-34579aebdceb",
   "metadata": {},
   "outputs": [],
   "source": [
    "# GPUを有効にしてモデルを読み込む\n",
    "ssd_model.to('cuda')\n",
    "ssd_model.eval()"
   ]
  },
  {
   "cell_type": "code",
   "execution_count": null,
   "id": "2916fcf0-86a3-449c-bea6-c9eca78b5129",
   "metadata": {},
   "outputs": [],
   "source": [
    "# 結果可視化用にCOCOのアノテーションラベルリストを取得\n",
    "classes_to_labels = utils.get_coco_object_dictionary()\n",
    "\n",
    "# 結果可視化用関数定義\n",
    "from matplotlib import pyplot as plt\n",
    "import matplotlib.patches as patches\n",
    "\n",
    "# The utility plots the images and predicted bounding boxes (with confidence scores).\n",
    "def plot_results(best_results):\n",
    "    for image_idx in range(len(best_results)):\n",
    "        fig, ax = plt.subplots(1)\n",
    "        # Show original, denormalized image...\n",
    "        image = inputs[image_idx] / 2 + 0.5\n",
    "        ax.imshow(image)\n",
    "        # ...with detections\n",
    "        bboxes, classes, confidences = best_results[image_idx]\n",
    "        for idx in range(len(bboxes)):\n",
    "            left, bot, right, top = bboxes[idx]\n",
    "            x, y, w, h = [val * 300 for val in [left, bot, right - left, top - bot]]\n",
    "            rect = patches.Rectangle((x, y), w, h, linewidth=1, edgecolor='r', facecolor='none')\n",
    "            ax.add_patch(rect)\n",
    "            ax.text(x, y, \"{} {:.0f}%\".format(classes_to_labels[classes[idx] - 1], confidences[idx]*100), bbox=dict(facecolor='white', alpha=0.5))\n",
    "    plt.show()"
   ]
  },
  {
   "cell_type": "code",
   "execution_count": null,
   "id": "19f66e62-653c-4bcd-97ab-d999793142f1",
   "metadata": {},
   "outputs": [],
   "source": [
    "# 使用する画像リストを作成（ローカルにある画像へのパスを指定しても可）\n",
    "uris = [\n",
    "    'http://images.cocodataset.org/val2017/000000397133.jpg',\n",
    "    'http://images.cocodataset.org/val2017/000000037777.jpg',\n",
    "    'http://images.cocodataset.org/val2017/000000252219.jpg',\n",
    "    'https://rt-net.jp/wp-content/uploads/2020/10/edu_seminar_image_raspimouse.png-600x400.jpg',\n",
    "    'https://rt-net.jp/mobility/wp-content/uploads/2022/03/s-IMG_2553_b.jpg',\n",
    "    'https://ultralytics.com/images/zidane.jpg'\n",
    "]"
   ]
  },
  {
   "cell_type": "code",
   "execution_count": null,
   "id": "b3458baf-3837-4072-8f8d-301a84215c60",
   "metadata": {},
   "outputs": [],
   "source": [
    "# 画像取得しネットワークへ入力できるように変換\n",
    "inputs = [utils.prepare_input(uri) for uri in uris]\n",
    "tensor = utils.prepare_tensor(inputs)"
   ]
  },
  {
   "cell_type": "code",
   "execution_count": null,
   "id": "0b67184f-08eb-42c2-b6e5-4e3e01a2af8f",
   "metadata": {},
   "outputs": [],
   "source": [
    "# 物体検出\n",
    "with torch.no_grad():\n",
    "    detections_batch = ssd_model(tensor)\n",
    "\n",
    "results_per_input = utils.decode_results(detections_batch)\n",
    "best_results_per_input = [utils.pick_best(results, 0.40) for results in results_per_input]"
   ]
  },
  {
   "cell_type": "code",
   "execution_count": null,
   "id": "6f8f3367-710b-4b4c-9ea2-7ec568ae2294",
   "metadata": {},
   "outputs": [],
   "source": [
    "# 結果可視化\n",
    "plot_results(best_results_per_input)"
   ]
  },
  {
   "cell_type": "code",
   "execution_count": null,
   "id": "8ae88e86-7246-425b-9462-038a0395f061",
   "metadata": {},
   "outputs": [],
   "source": []
  }
 ],
 "metadata": {
  "kernelspec": {
   "display_name": "Python 3 (ipykernel)",
   "language": "python",
   "name": "python3"
  },
  "language_info": {
   "codemirror_mode": {
    "name": "ipython",
    "version": 3
   },
   "file_extension": ".py",
   "mimetype": "text/x-python",
   "name": "python",
   "nbconvert_exporter": "python",
   "pygments_lexer": "ipython3",
   "version": "3.8.12"
  }
 },
 "nbformat": 4,
 "nbformat_minor": 5
}
